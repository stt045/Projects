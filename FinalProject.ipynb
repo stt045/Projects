{
 "cells": [
  {
   "cell_type": "markdown",
   "metadata": {},
   "source": [
    "# COGS 108 - Final Project "
   ]
  },
  {
   "cell_type": "markdown",
   "metadata": {},
   "source": [
    "# Overview"
   ]
  },
  {
   "cell_type": "markdown",
   "metadata": {},
   "source": [
    "*Fill in your overview here*"
   ]
  },
  {
   "cell_type": "markdown",
   "metadata": {},
   "source": [
    "# Names\n",
    "\n",
    "- Steven Tran\n",
    "- Chong Gu\n",
    "- Sarah Youn\n",
    "- Zefeng Xue\n",
    "- Kuanghanying Zhao\n"
   ]
  },
  {
   "cell_type": "markdown",
   "metadata": {},
   "source": [
    "# Group Members IDs\n",
    "\n",
    "- A13950948\n",
    "- A########\n",
    "- A########\n",
    "- A########"
   ]
  },
  {
   "cell_type": "markdown",
   "metadata": {},
   "source": [
    "# Research Question"
   ]
  },
  {
   "cell_type": "markdown",
   "metadata": {},
   "source": [
    "How large is the gender wage gap between men and women within the tech industry? And which gender, on average, earns more whilst having similar educational backgrounds?"
   ]
  },
  {
   "cell_type": "markdown",
   "metadata": {},
   "source": [
    "## Background and Prior Work"
   ]
  },
  {
   "cell_type": "markdown",
   "metadata": {},
   "source": [
    "The gender wage gap has long been an issue in the United States. Recent research suggests that the wage gap has narrowed between men and women since the 1980s, but has changed little within the last 10 years.. While the number of women in the tech industry is rising, females are still largely considered to be part of the minority, and continue to make up less than 20% of the total number of employees at tech companies. Given this information, we are curious as to whether or not a wage gap exists in the tech industry, and if so, how large that wage gap is. \n",
    "\n",
    "This topic is of interest to our group because we all have an interest in technology, and many of us plan to work or be involved in the tech industry in some way in the future. Furthermore, technology continues to become more and more important in our daily lives and affects society and the way we live. As such, we believe that more women should be encouraged to pursue tech careers to promote innovation and, in doing so, be paid equally to men.\n",
    "\n",
    "References (include links):\n",
    "- 1) Facts about the gender pay gap: https://www.pewresearch.org/fact-tank/2019/03/22/gender-pay-gap-facts/\n",
    "- 2) Women in tech statistics: https://smallbiztrends.com/2018/03/women-in-technology-statistics.html\n"
   ]
  },
  {
   "cell_type": "markdown",
   "metadata": {},
   "source": [
    "# Hypothesis\n"
   ]
  },
  {
   "cell_type": "markdown",
   "metadata": {},
   "source": [
    "In recent years, it seems that the presence of women within the tech industry, specifically in software engineering, has grown significantly. For years, we have heard that women are paid less than men for working the same jobs. We are hypothesizing that this is true for the tech industry, but that the gap is not extremely significant."
   ]
  },
  {
   "cell_type": "markdown",
   "metadata": {},
   "source": [
    "# Dataset(s)"
   ]
  },
  {
   "cell_type": "markdown",
   "metadata": {},
   "source": [
    "*Fill in your dataset information here*\n",
    "https://gist.github.com/nk412/38e131f55422a3b7422c6f50940a7489 \n",
    "The data for our first dataset is from people in the tech industry (mainly software engineering type jobs) with 3700 entries and 12 variables. This data seems to be from a self reported Google Form. There seems to be significantly more males on this form than females, which might skew our findings.\n",
    "\n",
    "https://github.com/HackathonHackers/data/blob/master/notebooks/fall-2015-salary.csv\n",
    "This data has 161 entries and 27 different variables. The dataset is smaller than our first one but does seem a lot more well rounded in terms of distribution of genders and educational levels.\n",
    "\n",
    "https://www.kaggle.com/kaggle/sf-salaries\n",
    "This dataset shows salary information for multiple job titles in the San Francisco area. We plan to only look at the entries with job positions with a Software Engineer title or similar.\n",
    "\n",
    "We plan to aggregate all of our data and merge it into one singular csv file. This will be easy to do since the current data we have share multiple similar variables. Because our data includes more data on males in the tech industry than females, we plan to look for more data sets to more accurately represent the female population.\n",
    "\n",
    "\n",
    "(Copy this information for each dataset)\n",
    "- Dataset Name:\n",
    "- Link to the dataset:\n",
    "- Number of observations:\n",
    "\n",
    "1-2 sentences describing each dataset. \n",
    "\n",
    "If you plan to use multiple datasets, add 1-2 sentences about how you plan to combine these datasets."
   ]
  },
  {
   "cell_type": "markdown",
   "metadata": {},
   "source": [
    "# Setup"
   ]
  },
  {
   "cell_type": "code",
   "execution_count": 20,
   "metadata": {},
   "outputs": [],
   "source": [
    "## YOUR CODE HERE"
   ]
  },
  {
   "cell_type": "markdown",
   "metadata": {},
   "source": [
    "# Data Cleaning"
   ]
  },
  {
   "cell_type": "markdown",
   "metadata": {},
   "source": [
    "Describe your data cleaning steps here.\n",
    "\n",
    "Our goals for cleaning the data \n",
    "- [ ] The smaller dataset does not have an annualized salary column. It does, however, have a salary and payment frequency. We want to take that salary value and multiply it by the frequency to get an annualized salary.\n",
    "- [ ] We want to combine our two datasets by matching all of the similar columns.\n",
    "- [ ] "
   ]
  },
  {
   "cell_type": "code",
   "execution_count": 21,
   "metadata": {
    "scrolled": true
   },
   "outputs": [],
   "source": [
    "import pandas as pd\n",
    "#import datasets\n",
    "df_sal1 = pd.read_csv('salaries.csv')\n",
    "df_sal2 = pd.read_csv('fall-2015-salary.csv')\n",
    "\n",
    "#dropping unused columns\n",
    "df_sal1 = df_sal1.drop(['Timestamp', 'Employer', 'Years at Employer', 'Years of Experience', 'Annual Stock Value/Bonus', 'Additional Comments'], axis=1)\n",
    "df_sal2 = df_sal2.drop(['Degree Level', 'Last Year of College', 'Timestamp', 'Company Name', 'Position Title', 'Base Salary', 'Salary Frequency', 'Housing Stipend', 'Stock Bonuses/Benefits', 'Stock Vesting Schedule Details', 'Additional Benefits', 'Did You Negotiate the Offer?', 'Did You Accept the Offer?', 'Time Frame From First Interview Invitation to Offer in Weeks', 'Last School Attended', 'Major', 'Additional Information', 'Monthly Salary', 'Annualized Recurring Renumeration (inc. stock)', 'Recurring Renumeration per Month', 'Total First Year Annualized Renumeration(including Signon & Relocation)'], axis=1)\n",
    "\n",
    "df_sal1 = df_sal1.dropna(axis = 0, how = 'any')\n",
    "df_sal2 = df_sal2.dropna(axis = 0, how = 'any')\n",
    "\n",
    "df_sal2 = df_sal2.rename(index=str, columns={'Sex': 'Gender', 'Bonuses per Year': 'Annual Bonus', 'Annualized Salary': 'Annual Base Pay'})\n",
    "df_sal1 = df_sal1.rename(index=str, columns={'Job Title': 'Position Type'})\n",
    "\n",
    "df_append = df_sal1.append(df_sal2, sort = True)\n",
    "\n"
   ]
  },
  {
   "cell_type": "markdown",
   "metadata": {},
   "source": [
    "# Data Analysis & Results"
   ]
  },
  {
   "cell_type": "markdown",
   "metadata": {},
   "source": [
    "Include cells that describe the steps in your data analysis."
   ]
  },
  {
   "cell_type": "code",
   "execution_count": 22,
   "metadata": {},
   "outputs": [],
   "source": [
    "## YOUR CODE HERE\n",
    "## FEEL FREE TO ADD MULTIPLE CELLS PER SECTION"
   ]
  },
  {
   "cell_type": "markdown",
   "metadata": {},
   "source": [
    "## Bar Plots \n",
    "Barplots show us the count of values within a single categorical variable."
   ]
  },
  {
   "cell_type": "markdown",
   "metadata": {},
   "source": [
    "### Gender\n",
    "This barplot is used to find the proportion of males to females within our dataset."
   ]
  },
  {
   "cell_type": "code",
   "execution_count": 23,
   "metadata": {},
   "outputs": [
    {
     "name": "stdout",
     "output_type": "stream",
     "text": [
      "    Annual Base Pay Annual Bonus                  Gender             Location  \\\n",
      "1            125000            0                    Male    San Francisco, CA   \n",
      "2            83,000       $50.00                    Male         San Diego CA   \n",
      "4             86000         6000                    Male        Cleveland, OH   \n",
      "6            105000         8500                    Male              Waltham   \n",
      "9             90500            0                    Male  Copenhagen, Denmark   \n",
      "12           110000         7000                    Male            Cupertino   \n",
      "14            40000          500                    Male       Eastern Oregon   \n",
      "16            45000         1500                    Male          Madison, WI   \n",
      "17           135000            0                    Male        New York City   \n",
      "21           105000        47000                    Male                  NYC   \n",
      "22            95000            0                    Male          Seattle, WA   \n",
      "23            80000            0                    Male       San Francisco    \n",
      "24           120000         6000                    Male           Denver, CO   \n",
      "25            78000            0                    Male              Chicago   \n",
      "28           115000            0                    Male      Los Angeles, CA   \n",
      "29           110000        10000                    Male          Remote (US)   \n",
      "32           150000        25000                    Male       Scottsdale, AZ   \n",
      "34            63000         2000                    Male          Minneapolis   \n",
      "35            63000         2000                    Male          Minneapolis   \n",
      "36           38 210            0                    Male             Bordeaux   \n",
      "37            93000        15000                    Male              Seattle   \n",
      "40           $24/hr           $0                    Male      Bala Cynwyd, PA   \n",
      "41          108,000         1000                    Male            St. Louis   \n",
      "43            54000            0                    Male          Upstate, NY   \n",
      "45            85000         5000                    Male      Toronto, Canada   \n",
      "48            55000            0                    Male             New York   \n",
      "49            80000            0                    Male          Orlando, FL   \n",
      "50           125000            0                    Male        San Francisco   \n",
      "53          145,000       20,000                    Male          santa clara   \n",
      "54           134000            0                    Male        New York City   \n",
      "..              ...          ...                     ...                  ...   \n",
      "81          $85,200      $16,000                    Male              Redmond   \n",
      "82          $62,400           $0                  Female          Seattle, WA   \n",
      "83          $85,200      $16,000                    Male  Seattle, Washington   \n",
      "85         $106,000      $20,000                    Male  Seattle, Washington   \n",
      "86         $106,000      $17,143                    Male          Redmond, WA   \n",
      "87         $115,000      $32,500                    Male          Redmond, WA   \n",
      "88          $85,200      $15,600                  Female              Redmond   \n",
      "89         $110,000      $15,000                  Female          Seattle, WA   \n",
      "90         $106,000      $34,286                    Male              Redmond   \n",
      "91          $85,200      $15,996                  Female          Seattle, WA   \n",
      "93         $106,000      $15,000                  Female              Redmond   \n",
      "96          $83,200      $27,200                  Female        New York City   \n",
      "97          $83,200      $27,380                    Male                  NYC   \n",
      "99          $90,000           $0                  Female                  NYC   \n",
      "101         $47,840      $12,000               Nonbinary           Austin, TX   \n",
      "104        $100,000      $18,750                    Male               PA, CA   \n",
      "107        $115,000           $0                    Male    San Francisco, CA   \n",
      "108        $115,000      $37,500                  Female             Bay Area   \n",
      "111         $90,000           $0                    Male         San Jose, CA   \n",
      "114         $56,160           $0                    Male        United States   \n",
      "116         $47,840      $18,000                  Female     Indianapolis, IN   \n",
      "117        $125,000      $12,500                  Female    San Francisco, CA   \n",
      "118         $81,005      $20,004                    Male              Seattle   \n",
      "132        $100,000      $27,500                    Male        San Francisco   \n",
      "134         $47,840           $0                    Male               Dallas   \n",
      "135        $120,000      $37,500  Prefer Not to Disclose                   SF   \n",
      "136        $124,800      $27,200                    Male         New York, NY   \n",
      "137        $110,000      $15,000                    Male    San Francisco, CA   \n",
      "150         $93,600           $0                    Male                  NYC   \n",
      "151        $125,000      $19,250  Prefer Not to Disclose         Redwood City   \n",
      "\n",
      "                        Position Type Signing Bonus  \n",
      "1                    Systems Engineer          5000  \n",
      "2                    Systems engineer             0  \n",
      "4                   Software Engineer          5000  \n",
      "6                                 MTS          5000  \n",
      "9                  Software Developer             0  \n",
      "12                  Software Engineer          5000  \n",
      "14                      IT Technician             0  \n",
      "16                   Lead Interviewer             0  \n",
      "17           Senior software engineer             0  \n",
      "21                  Software Engineer             0  \n",
      "22                  Software Engineer             0  \n",
      "23   Infrastructure/Platform Engineer             0  \n",
      "24           Senior Software Engineer             0  \n",
      "25     Software Developer, Consultant             0  \n",
      "28             Lead Software Engineer             0  \n",
      "29            Infrastructure Engineer         10000  \n",
      "32       Senior Application Architect             0  \n",
      "34                            Analyst             0  \n",
      "35                            Analyst             0  \n",
      "36                 IT Project Manager             0  \n",
      "37                    Senior Engineer             0  \n",
      "40               Student Intern Co-op            $0  \n",
      "41          Software Development Lead             0  \n",
      "43                          Developer             0  \n",
      "45               Full Stack Developer             0  \n",
      "48                     Senior Analyst             0  \n",
      "49               Sr Software Engineer             0  \n",
      "50                  Software Engineer             0  \n",
      "53                        sr engineer             0  \n",
      "54                   Senior Developer             0  \n",
      "..                                ...           ...  \n",
      "81                             Intern            $0  \n",
      "82                             Intern        $1,200  \n",
      "83                             Intern        $1,500  \n",
      "85                          Full Time       $15,000  \n",
      "86                          Full Time       $30,000  \n",
      "87                          Full Time       $25,000  \n",
      "88                             Intern        $2,400  \n",
      "89                          Full Time         25000  \n",
      "90                          Full Time         30000  \n",
      "91                             Intern          5000  \n",
      "93                          Full Time         10000  \n",
      "96                             Intern        $1,250  \n",
      "97                             Intern            $0  \n",
      "99                          Full Time         10000  \n",
      "101                            Intern             0  \n",
      "104                         Full Time         10000  \n",
      "107                         Full Time       $10,000  \n",
      "108                         Full Time        $5,000  \n",
      "111                         Full Time             0  \n",
      "114                            Intern            $0  \n",
      "116                            Intern          $500  \n",
      "117                         Full Time         30000  \n",
      "118                            Intern           300  \n",
      "132                         Full Time         15000  \n",
      "134                            Intern        $2,100  \n",
      "135                         Full Time         15000  \n",
      "136                            Intern          5000  \n",
      "137                         Full Time        $5,000  \n",
      "150                            Intern          5000  \n",
      "151                         Full Time          5000  \n",
      "\n",
      "[2174 rows x 6 columns]\n"
     ]
    }
   ],
   "source": [
    "print(df_salfinal)"
   ]
  },
  {
   "cell_type": "markdown",
   "metadata": {},
   "source": [
    "## Box Plots\n",
    "Box plots summaries a quantitative variable broken down by a categorical variable."
   ]
  },
  {
   "cell_type": "markdown",
   "metadata": {},
   "source": [
    "### Gender vs. Annualized Salary \n",
    "We want to analyze annualized salary(quantitative variable) across genders(categorical variable) to see which gender has a higher annualized salary."
   ]
  },
  {
   "cell_type": "code",
   "execution_count": null,
   "metadata": {},
   "outputs": [],
   "source": []
  },
  {
   "cell_type": "markdown",
   "metadata": {},
   "source": [
    "## Density Plot \n",
    "Density plots reveal information about a single quantitative variable."
   ]
  },
  {
   "cell_type": "markdown",
   "metadata": {},
   "source": [
    "### Annualized Salary\n",
    "We are creating a density plot to investigate the distribution of salaries across all the people in our dataset. We seek to find ... from this plot."
   ]
  },
  {
   "cell_type": "code",
   "execution_count": null,
   "metadata": {},
   "outputs": [],
   "source": []
  },
  {
   "cell_type": "markdown",
   "metadata": {},
   "source": [
    "## Segmented Bar Graph\n",
    "A segmented bar graph compares multiple quantitative variables across a single categorical variable. "
   ]
  },
  {
   "cell_type": "markdown",
   "metadata": {},
   "source": [
    "### Gender vs. \"Income\"\n",
    "\"Income\" consists of 3 quantitative variables: Annualized Salary, Signing Bonus, Other Bonuses. The reason we want to look at these 3 quantitative variables is to get a more holistic representation of the amount of money an individual is bringing home, because salary may not be the most accurate representation because a person make only make a $40,000 but have another $40,000 in bonuses/ other compensation."
   ]
  },
  {
   "cell_type": "code",
   "execution_count": null,
   "metadata": {},
   "outputs": [],
   "source": []
  },
  {
   "cell_type": "markdown",
   "metadata": {},
   "source": [
    "# Ethics & Privacy"
   ]
  },
  {
   "cell_type": "markdown",
   "metadata": {},
   "source": [
    "*Fill in your ethics & privacy discussion here*"
   ]
  },
  {
   "cell_type": "markdown",
   "metadata": {},
   "source": [
    "# Conclusion & Discussion"
   ]
  },
  {
   "cell_type": "markdown",
   "metadata": {},
   "source": [
    "*Fill in your discussion information here*"
   ]
  }
 ],
 "metadata": {
  "kernelspec": {
   "display_name": "Python 3",
   "language": "python",
   "name": "python3"
  },
  "language_info": {
   "codemirror_mode": {
    "name": "ipython",
    "version": 3
   },
   "file_extension": ".py",
   "mimetype": "text/x-python",
   "name": "python",
   "nbconvert_exporter": "python",
   "pygments_lexer": "ipython3",
   "version": "3.7.3"
  }
 },
 "nbformat": 4,
 "nbformat_minor": 2
}
