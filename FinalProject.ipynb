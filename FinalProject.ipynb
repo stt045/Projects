{
 "cells": [
  {
   "cell_type": "markdown",
   "metadata": {},
   "source": [
    "# COGS 108 - Final Project "
   ]
  },
  {
   "cell_type": "markdown",
   "metadata": {},
   "source": [
    "# Overview"
   ]
  },
  {
   "cell_type": "markdown",
   "metadata": {},
   "source": [
    "*Fill in your overview here*"
   ]
  },
  {
   "cell_type": "markdown",
   "metadata": {},
   "source": [
    "# Names\n",
    "\n",
    "- Steven Tran\n",
    "- Chong Gu\n",
    "- Sarah Youn\n",
    "- Zefeng Xue\n",
    "- Kuanghanying Zhao\n"
   ]
  },
  {
   "cell_type": "markdown",
   "metadata": {},
   "source": [
    "#### Group Members IDs\n",
    "\n",
    "- A13950948\n",
    "- A14464757\n",
    "- A########\n",
    "- A########\n",
    "- A14698283"
   ]
  },
  {
   "cell_type": "markdown",
   "metadata": {},
   "source": [
    "# Research Question"
   ]
  },
  {
   "cell_type": "markdown",
   "metadata": {},
   "source": [
    "How large is the gender wage gap between men and women within the tech industry? And which gender, on average, earns more whilst having similar educational backgrounds?"
   ]
  },
  {
   "cell_type": "markdown",
   "metadata": {},
   "source": [
    "## Background and Prior Work"
   ]
  },
  {
   "cell_type": "markdown",
   "metadata": {},
   "source": [
    "The gender wage gap has long been an issue in the United States. Recent research suggests that the wage gap has narrowed between men and women since the 1980s, but has changed little within the last 10 years.. While the number of women in the tech industry is rising, females are still largely considered to be part of the minority, and continue to make up less than 20% of the total number of employees at tech companies. Given this information, we are curious as to whether or not a wage gap exists in the tech industry, and if so, how large that wage gap is. \n",
    "\n",
    "This topic is of interest to our group because we all have an interest in technology, and many of us plan to work or be involved in the tech industry in some way in the future. Furthermore, technology continues to become more and more important in our daily lives and affects society and the way we live. As such, we believe that more women should be encouraged to pursue tech careers to promote innovation and, in doing so, be paid equally to men.\n",
    "\n",
    "References (include links):\n",
    "- 1) Facts about the gender pay gap: https://www.pewresearch.org/fact-tank/2019/03/22/gender-pay-gap-facts/\n",
    "- 2) Women in tech statistics: https://smallbiztrends.com/2018/03/women-in-technology-statistics.html\n"
   ]
  },
  {
   "cell_type": "markdown",
   "metadata": {},
   "source": [
    "# Hypothesis\n"
   ]
  },
  {
   "cell_type": "markdown",
   "metadata": {},
   "source": [
    "In recent years, it seems that the presence of women within the tech industry, specifically in software engineering, has grown significantly. For years, we have heard that women are paid less than men for working the same jobs. We are hypothesizing that this is true for the tech industry, but that the gap is not extremely significant."
   ]
  },
  {
   "cell_type": "markdown",
   "metadata": {},
   "source": [
    "# Dataset(s)"
   ]
  },
  {
   "cell_type": "markdown",
   "metadata": {},
   "source": [
    "*Fill in your dataset information here*\n",
    "https://gist.github.com/nk412/38e131f55422a3b7422c6f50940a7489 \n",
    "The data for our first dataset is from people in the tech industry (mainly software engineering type jobs) with 3700 entries and 12 variables. This data seems to be from a self reported Google Form. There seems to be significantly more males on this form than females, which might skew our findings.\n",
    "\n",
    "https://github.com/HackathonHackers/data/blob/master/notebooks/fall-2015-salary.csv\n",
    "This data has 161 entries and 27 different variables. The dataset is smaller than our first one but does seem a lot more well rounded in terms of distribution of genders and educational levels.\n",
    "\n",
    "https://www.kaggle.com/kaggle/sf-salaries\n",
    "This dataset shows salary information for multiple job titles in the San Francisco area. We plan to only look at the entries with job positions with a Software Engineer title or similar.\n",
    "\n",
    "We plan to aggregate all of our data and merge it into one singular csv file. This will be easy to do since the current data we have share multiple similar variables. Because our data includes more data on males in the tech industry than females, we plan to look for more data sets to more accurately represent the female population.\n",
    "\n",
    "\n",
    "(Copy this information for each dataset)\n",
    "- Dataset Name:\n",
    "- Link to the dataset:\n",
    "- Number of observations:\n",
    "\n",
    "1-2 sentences describing each dataset. \n",
    "\n",
    "If you plan to use multiple datasets, add 1-2 sentences about how you plan to combine these datasets."
   ]
  },
  {
   "cell_type": "markdown",
   "metadata": {},
   "source": [
    "# Setup"
   ]
  },
  {
   "cell_type": "code",
   "execution_count": null,
   "metadata": {},
   "outputs": [],
   "source": [
    "import numpy as np\n",
    "import pandas as pd\n",
    "import matplotlib.pyplot as plt\n",
    "import seaborn as sns\n",
    "import re"
   ]
  },
  {
   "cell_type": "markdown",
   "metadata": {},
   "source": [
    "# Data Cleaning"
   ]
  },
  {
   "cell_type": "markdown",
   "metadata": {},
   "source": [
    "Describe your data cleaning steps here.\n",
    "\n",
    "Our goals for cleaning the data \n",
    "- [ ] The smaller dataset does not have an annualized salary column. It does, however, have a salary and payment frequency. We want to take that salary value and multiply it by the frequency to get an annualized salary.\n",
    "- [ ] We want to combine our two datasets by matching all of the similar columns.\n",
    "- [ ] "
   ]
  },
  {
   "cell_type": "code",
   "execution_count": null,
   "metadata": {
    "scrolled": true
   },
   "outputs": [],
   "source": [
    "#import datasets\n",
    "df_sal1 = pd.read_csv('salaries.csv')\n",
    "df_sal2 = pd.read_csv('fall-2015-salary.csv')\n",
    "\n",
    "#dropping unused columns\n",
    "df_sal1 = df_sal1.drop(['Timestamp', 'Employer', 'Years at Employer', 'Years of Experience', 'Annual Stock Value/Bonus', 'Additional Comments'], axis=1)\n",
    "df_sal2 = df_sal2.drop(['Degree Level', 'Last Year of College', 'Timestamp', 'Company Name', 'Position Title', 'Base Salary', 'Salary Frequency', 'Housing Stipend', 'Stock Bonuses/Benefits', 'Stock Vesting Schedule Details', 'Additional Benefits', 'Did You Negotiate the Offer?', 'Did You Accept the Offer?', 'Time Frame From First Interview Invitation to Offer in Weeks', 'Last School Attended', 'Major', 'Additional Information', 'Monthly Salary', 'Annualized Recurring Renumeration (inc. stock)', 'Recurring Renumeration per Month', 'Total First Year Annualized Renumeration(including Signon & Relocation)'], axis=1)\n",
    "\n",
    "df_sal1 = df_sal1.dropna(axis = 0, how = 'any')\n",
    "df_sal2 = df_sal2.dropna(axis = 0, how = 'any')\n",
    "\n",
    "df_sal2 = df_sal2.rename(index=str, columns={'Sex': 'Gender', 'Bonuses per Year': 'Annual Bonus', 'Annualized Salary': 'Annual Base Pay'})\n",
    "df_sal1 = df_sal1.rename(index=str, columns={'Job Title': 'Position Type'})\n",
    "\n",
    "df_append = df_sal1.append(df_sal2, sort = True)\n",
    "\n"
   ]
  },
  {
   "cell_type": "code",
   "execution_count": null,
   "metadata": {},
   "outputs": [],
   "source": [
    "for index, row in df_append.iterrows():\n",
    "    c = row['Annual Base Pay']\n",
    "    c = c.lower()\n",
    "    c = c.replace('k', '000')\n",
    "    df_append.loc[index, 'Annual Base Pay'] = c\n",
    "    \n",
    "    if (len(c) > 0 and c[0] == '-'):\n",
    "        df_append.loc[index, 'Annual Base Pay'] = np.nan\n",
    "        \n",
    "    if c.find('hr') != -1 or c.find('hour') != -1:\n",
    "        tempint = re.sub('[^0-9]','', c)\n",
    "        tempint = tempint * 2080\n",
    "        if int(tempint) > 10000000:\n",
    "            df_append.loc[index, 'Annual Base Pay'] = np.nan\n",
    "        else:\n",
    "            c = str(tempint)\n",
    "            df_append.loc[index, 'Annual Base Pay'] = c\n",
    "        \n",
    "    if c.find('≈') != -1:\n",
    "        df_append.loc[index, 'Annual Base Pay'] = c[c.find('≈'): int(len(c))]\n",
    "        \n",
    "    if not c.isdigit():\n",
    "        tempint = re.sub('[^0-9]','', c)\n",
    "        df_append.loc[index, 'Annual Base Pay'] = str(tempint)\n",
    "\n",
    "for index, row in df_append.iterrows():\n",
    "    n = row['Annual Bonus']\n",
    "    if not n.isdigit():\n",
    "        tempint = re.sub('[^0-9]','', n)\n",
    "        df_append.loc[index, 'Annual Bonus'] = str(tempint)\n",
    "        \n",
    "for index, row in df_append.iterrows():\n",
    "    n = row['Signing Bonus']\n",
    "    if not n.isdigit():\n",
    "        tempint = re.sub('[^0-9]','', n)\n",
    "        df_append.loc[index, 'Signing Bonus'] = str(tempint)\n",
    "\n",
    "df_append = df_append.dropna(axis = 0, how = 'any')"
   ]
  },
  {
   "cell_type": "code",
   "execution_count": null,
   "metadata": {},
   "outputs": [],
   "source": [
    "# Convert the type of Annual Base Pay, Annual Bonus and Sigin Bonus from Strings into Integers \n",
    "df_append['Annual Base Pay'] = pd.to_numeric(df_append['Annual Base Pay'], errors='coerce')\n",
    "df_append['Annual Bonus'] = pd.to_numeric(df_append['Annual Bonus'], errors='coerce')\n",
    "df_append['Signing Bonus'] = pd.to_numeric(df_append['Signing Bonus'], errors='coerce')\n",
    "df_append = df_append[df_append['Annual Base Pay'] < 1000000] \n",
    "df_append = df_append[df_append['Annual Base Pay'] > 10000] "
   ]
  },
  {
   "cell_type": "code",
   "execution_count": null,
   "metadata": {},
   "outputs": [],
   "source": [
    "print (df_append)"
   ]
  },
  {
   "cell_type": "markdown",
   "metadata": {},
   "source": [
    "# Data Analysis & Results"
   ]
  },
  {
   "cell_type": "markdown",
   "metadata": {},
   "source": [
    "Include cells that describe the steps in your data analysis."
   ]
  },
  {
   "cell_type": "code",
   "execution_count": null,
   "metadata": {},
   "outputs": [],
   "source": [
    "## YOUR CODE HERE\n",
    "## FEEL FREE TO ADD MULTIPLE CELLS PER SECTION"
   ]
  },
  {
   "cell_type": "markdown",
   "metadata": {},
   "source": [
    "## Bar Plots \n",
    "Barplots show us the count of values within a single categorical variable."
   ]
  },
  {
   "cell_type": "markdown",
   "metadata": {},
   "source": [
    "### Gender\n",
    "This barplot is used to find the proportion of males to females within our dataset."
   ]
  },
  {
   "cell_type": "code",
   "execution_count": null,
   "metadata": {},
   "outputs": [],
   "source": []
  },
  {
   "cell_type": "markdown",
   "metadata": {},
   "source": [
    "## Box Plots\n",
    "Box plots summaries a quantitative variable broken down by a categorical variable."
   ]
  },
  {
   "cell_type": "markdown",
   "metadata": {},
   "source": [
    "### Gender vs. Annualized Salary \n",
    "We want to analyze annualized salary(quantitative variable) across genders(categorical variable) to see which gender has a higher annualized salary."
   ]
  },
  {
   "cell_type": "code",
   "execution_count": null,
   "metadata": {},
   "outputs": [],
   "source": [
    "# Build a new data frame whose gender only contains female and male\n",
    "df_box_plots_female = df_append.copy()\n",
    "df_box_plots_male = df_append.copy()\n",
    "df_box_plots_female = df_box_female[df_box_female['Gender'] == 'Female']\n",
    "df_box_plots_male = df_box_male[df_box_male['Gender'] == 'Male']\n",
    "df_box_plots = df_box_plots_female.append(df_box_plots_male, sort = True)\n",
    "\n",
    "# Show mean and median of female's and male's annualized salary\n",
    "print(\"Mean of female's annualized salary: \", df_box_plots_female['Annual Base Pay'].mean())\n",
    "print(\"Mean of male's annualized salary: \",df_box_plots_male['Annual Base Pay'].mean())\n",
    "print(\"Median of female's annualized salary: \",df_box_plots_female['Annual Base Pay'].median())\n",
    "print(\"Median of male's annualized salary: \",df_box_plots_male['Annual Base Pay'].median())\n",
    "\n",
    "df_box_plots = df_box_plots[df_box_plots['Annual Base Pay'] < 300000] "
   ]
  },
  {
   "cell_type": "code",
   "execution_count": null,
   "metadata": {},
   "outputs": [],
   "source": [
    "# Generate boxplot\n",
    "sns.boxplot(x = 'Gender', y = 'Annual Base Pay', data = df_box_plots)\n",
    "ax = plt.gca()\n",
    "ax.set_title('Gender VS Annualized Salary')\n",
    "ax.set_ylabel('Annual Base Pay')\n",
    "ax.set_xlabel('Gender');"
   ]
  },
  {
   "cell_type": "markdown",
   "metadata": {},
   "source": [
    "## Density Plot \n",
    "Density plots reveal information about a single quantitative variable."
   ]
  },
  {
   "cell_type": "markdown",
   "metadata": {},
   "source": [
    "### Annualized Salary\n",
    "We are creating a density plot to investigate the distribution of salaries across all the people in our dataset. We seek to find ... from this plot."
   ]
  },
  {
   "cell_type": "code",
   "execution_count": null,
   "metadata": {},
   "outputs": [],
   "source": []
  },
  {
   "cell_type": "markdown",
   "metadata": {},
   "source": [
    "## Segmented Bar Graph\n",
    "A segmented bar graph compares multiple quantitative variables across a single categorical variable. "
   ]
  },
  {
   "cell_type": "markdown",
   "metadata": {},
   "source": [
    "### Gender vs. \"Income\"\n",
    "\"Income\" consists of 3 quantitative variables: Annualized Salary, Signing Bonus, Other Bonuses. The reason we want to look at these 3 quantitative variables is to get a more holistic representation of the amount of money an individual is bringing home, because salary may not be the most accurate representation because a person make only make a $40,000 but have another $40,000 in bonuses/ other compensation."
   ]
  },
  {
   "cell_type": "code",
   "execution_count": null,
   "metadata": {},
   "outputs": [],
   "source": []
  },
  {
   "cell_type": "markdown",
   "metadata": {},
   "source": [
    "# Ethics & Privacy"
   ]
  },
  {
   "cell_type": "markdown",
   "metadata": {},
   "source": [
    "*Fill in your ethics & privacy discussion here*"
   ]
  },
  {
   "cell_type": "markdown",
   "metadata": {},
   "source": [
    "# Conclusion & Discussion"
   ]
  },
  {
   "cell_type": "markdown",
   "metadata": {},
   "source": [
    "*Fill in your discussion information here*"
   ]
  }
 ],
 "metadata": {
  "kernelspec": {
   "display_name": "Python 3",
   "language": "python",
   "name": "python3"
  },
  "language_info": {
   "codemirror_mode": {
    "name": "ipython",
    "version": 3
   },
   "file_extension": ".py",
   "mimetype": "text/x-python",
   "name": "python",
   "nbconvert_exporter": "python",
   "pygments_lexer": "ipython3",
   "version": "3.6.5"
  }
 },
 "nbformat": 4,
 "nbformat_minor": 2
}
