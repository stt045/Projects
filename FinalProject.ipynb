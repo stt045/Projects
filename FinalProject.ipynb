{
 "cells": [
  {
   "cell_type": "markdown",
   "metadata": {},
   "source": [
    "# COGS 108 - Final Project "
   ]
  },
  {
   "cell_type": "markdown",
   "metadata": {},
   "source": [
    "# Overview"
   ]
  },
  {
   "cell_type": "markdown",
   "metadata": {},
   "source": [
    "*Fill in your overview here*"
   ]
  },
  {
   "cell_type": "markdown",
   "metadata": {},
   "source": [
    "# Names\n",
    "\n",
    "- Steven Tran\n",
    "- Chong Gu\n",
    "- Sarah Youn\n",
    "- Zefeng Xue\n",
    "- Kuanghanying Zhao\n"
   ]
  },
  {
   "cell_type": "markdown",
   "metadata": {},
   "source": [
    "#### Group Members IDs\n",
    "\n",
    "- A13950948\n",
    "- A14464757\n",
    "- A13466746\n",
    "- A########\n",
    "- A14698283"
   ]
  },
  {
   "cell_type": "markdown",
   "metadata": {},
   "source": [
    "# Research Question"
   ]
  },
  {
   "cell_type": "markdown",
   "metadata": {},
   "source": [
    "How large is the gender wage gap between men and women within the tech industry? And which gender, on average, earns more whilst holding similar job titles?"
   ]
  },
  {
   "cell_type": "markdown",
   "metadata": {},
   "source": [
    "## Background and Prior Work"
   ]
  },
  {
   "cell_type": "markdown",
   "metadata": {},
   "source": [
    "The gender wage gap has long been an issue in the United States. Recent research suggests that the wage gap has narrowed overall between men and women since the 1980s, but has changed little within the last 15 years. According to the Pew Research Center, women continued to earn about 15% less than men as of 2018 in general (https://www.pewresearch.org/fact-tank/2019/03/22/gender-pay-gap-facts/). This leads us to wonder: does this gap exist tech fields as well? While the number of women in the tech industry is rising, females are still largely considered to be part of the minority, and make up less than 20% of the total number of employees at tech companies ( https://smallbiztrends.com/2018/03/women-in-technology-statistics.html). Given this information, we are curious as to whether or not women earn less than men in the tech fields for the same jobs, and if so, how significant the gap between those earnings are.\n",
    "\n",
    "This topic is of interest to our group because we all have an interest in technology. Most of us plan to work or be involved in the tech industry in some way in the future. Furthermore, technology continues to become more and more important in our daily lives, greatly affecting society and the way we live. As such, we believe that more women should be encouraged to pursue tech careers to promote innovation and, in doing so, be paid equally to men.\n"
   ]
  },
  {
   "cell_type": "markdown",
   "metadata": {},
   "source": [
    "# Hypothesis\n"
   ]
  },
  {
   "cell_type": "markdown",
   "metadata": {},
   "source": [
    "In recent years, it seems that the presence of women within the tech industry, specifically in software engineering, has grown significantly. For years, we have heard that women are paid less than men for working the same jobs. We are hypothesizing that this is true for the tech industry -- that is, that the null hypothesis is incorrect and that women do earn less than men on average in tech careers -- but that the gap is not extremely significant. We believe this to be the case because, in general, wage gap studies include men and women with different career paths/, which may skew the data. However, we believe that if men and women with similar career paths/fields are compared to each other, then the average salary, while not exactly the same, will be closer to one another (compared to the wage gap in the general population across all careers/fields)."
   ]
  },
  {
   "cell_type": "markdown",
   "metadata": {},
   "source": [
    "# Dataset(s)"
   ]
  },
  {
   "cell_type": "markdown",
   "metadata": {},
   "source": [
    "We are analyzing salaries and overall income of people working in the software technology fields, most of them holding the title of software engineer or other software developer related titles. We have decided to collect data from 2 different sources. Both sources include information about employees in tech careers, including their position title, base salary, signing bonus, and annual bonus. Thus, we plan to combine the datasets based on these similar variables. In one of our datasets, there exists an “annualized salary” variable, while the other only includes a salary and pay frequency. We remedied this by taking the salary and pay frequency and multiplying them together to achieve the annualized salary.\n",
    "\n",
    "Dataset 1:\n",
    "* Dataset Name: Salaries\n",
    "* Link to the dataset: https://gist.github.com/nk412/38e131f55422a3b7422c6f50940a7489\n",
    "* Number of observations: 3712 (before cleanup)\n",
    "* Description: This dataset includes the following information about each employee: employer, location, job title, years at employer, years of experience, annual base pay, signing bonus, annual bonus, annual stock value/bonus, and gender. \n",
    "\n",
    "Dataset 2:\n",
    "* Dataset Name: Fall 2015 Salaries\n",
    "* Link to the dataset: https://github.com/HackathonHackers/data/blob/master/notebooks/fall-2015-salary.csv\n",
    "* Number of observations: 161 (before cleanup)\n",
    "* Description: This dataset includes the company name, position title, position type, location, base salary, salary frequency, housing stipend, signing bonus, stock bonuses/benefits, gender, as well as information about education level.\n",
    "\n",
    "After combining our data, each observation has the following columns:\n",
    "* Annual Base Pay\n",
    "* Annual Bonus\n",
    "* Gender\n",
    "* Location\n",
    "* Position Type\n",
    "* Signing Bonus\n",
    "\n",
    "We will be comparing individuals from different genders to find out whether or not there exists an income difference. If there is, we want to know how much the difference is and whether or not that difference is significant. We are analyzing “income” as a whole across multiple quantitative variables: Annual Base Pay, Annual Bonuses, and Signing Bonuses. We want to look at all of these income streams to obtain a more holistic view of a person’s income.\n"
   ]
  },
  {
   "cell_type": "markdown",
   "metadata": {},
   "source": [
    "# Setup"
   ]
  },
  {
   "cell_type": "code",
   "execution_count": 2,
   "metadata": {},
   "outputs": [],
   "source": [
    "import numpy as np\n",
    "import pandas as pd\n",
    "import matplotlib.pyplot as plt\n",
    "import seaborn as sns\n",
    "import re\n",
    "import scipy.stats as stats"
   ]
  },
  {
   "cell_type": "markdown",
   "metadata": {},
   "source": [
    "# Data Cleaning"
   ]
  },
  {
   "cell_type": "markdown",
   "metadata": {},
   "source": [
    "To start, we first dropped all the columns in our datasets that were extraneous/unused. Because our project focuses on salary and gender, we removed any columns from the two datasets that were unrelated, including company name, years of experience, college name, and major. We then merged the two datasets together.\n",
    "\n",
    "Additionally, before cleaning, our dataset had multiple missing values that we think may have been due to a person’s choice of nondisclosure. Fields with missing Salary data have been removed since it is one of our main variables we want to analyze, and we didn’t want the missing data to influence our results. \n"
   ]
  },
  {
   "cell_type": "code",
   "execution_count": 3,
   "metadata": {
    "scrolled": true
   },
   "outputs": [],
   "source": [
    "#import datasets\n",
    "df_sal1 = pd.read_csv('salaries.csv')\n",
    "df_sal2 = pd.read_csv('fall-2015-salary.csv')\n",
    "\n",
    "#dropping unused columns\n",
    "df_sal1 = df_sal1.drop(['Timestamp', 'Employer', 'Years at Employer', 'Years of Experience', 'Annual Stock Value/Bonus', 'Additional Comments'], axis=1)\n",
    "df_sal2 = df_sal2.drop(['Degree Level', 'Last Year of College', 'Timestamp', 'Company Name', 'Position Title', 'Base Salary', 'Salary Frequency', 'Housing Stipend', 'Stock Bonuses/Benefits', 'Stock Vesting Schedule Details', 'Additional Benefits', 'Did You Negotiate the Offer?', 'Did You Accept the Offer?', 'Time Frame From First Interview Invitation to Offer in Weeks', 'Last School Attended', 'Major', 'Additional Information', 'Monthly Salary', 'Annualized Recurring Renumeration (inc. stock)', 'Recurring Renumeration per Month', 'Total First Year Annualized Renumeration(including Signon & Relocation)'], axis=1)\n",
    "\n",
    "df_sal1 = df_sal1.dropna(axis = 0, how = 'any')\n",
    "df_sal2 = df_sal2.dropna(axis = 0, how = 'any')\n",
    "\n",
    "df_sal2 = df_sal2.rename(index=str, columns={'Sex': 'Gender', 'Bonuses per Year': 'Annual Bonus', 'Annualized Salary': 'Annual Base Pay'})\n",
    "df_sal1 = df_sal1.rename(index=str, columns={'Job Title': 'Position Type'})\n",
    "\n",
    "df_append = df_sal1.append(df_sal2, sort = True)\n",
    "\n"
   ]
  },
  {
   "cell_type": "markdown",
   "metadata": {},
   "source": [
    "Many of the responses under the Annual Base Pay, Annual Bonus, and Signing Bonus columns included extraneous numbers or characters (i.e. 10k instead of 10000) or abbreviations instead of the full word (i.e. hr instead of hour). Thus, we went through each of these columns and replaced these instances so that our data was consistent for our analysis. We also made sure to convert these strings into integers after replacing them. "
   ]
  },
  {
   "cell_type": "code",
   "execution_count": 4,
   "metadata": {},
   "outputs": [],
   "source": [
    "for index, row in df_append.iterrows():\n",
    "    c = row['Annual Base Pay']\n",
    "    c = c.lower()\n",
    "    c = c.replace('k', '000')\n",
    "    df_append.loc[index, 'Annual Base Pay'] = c\n",
    "    \n",
    "    if (len(c) > 0 and c[0] == '-'):\n",
    "        df_append.loc[index, 'Annual Base Pay'] = np.nan\n",
    "        \n",
    "    if c.find('hr') != -1 or c.find('hour') != -1:\n",
    "        tempint = re.sub('[^0-9]','', c)\n",
    "        tempint = tempint * 2080\n",
    "        if int(tempint) > 10000000:\n",
    "            df_append.loc[index, 'Annual Base Pay'] = np.nan\n",
    "        else:\n",
    "            c = str(tempint)\n",
    "            df_append.loc[index, 'Annual Base Pay'] = c\n",
    "        \n",
    "    if c.find('≈') != -1:\n",
    "        df_append.loc[index, 'Annual Base Pay'] = c[c.find('≈'): int(len(c))]\n",
    "        \n",
    "    if not c.isdigit():\n",
    "        tempint = re.sub('[^0-9]','', c)\n",
    "        df_append.loc[index, 'Annual Base Pay'] = str(tempint)\n",
    "\n",
    "for index, row in df_append.iterrows():\n",
    "    c = row['Annual Bonus']\n",
    "    c = c.lower()\n",
    "    c = c.replace('k', '000')\n",
    "    df_append.loc[index, 'Annual Bonus'] = c\n",
    "    \n",
    "    if (len(c) > 0 and c[0] == '-'):\n",
    "        df_append.loc[index, 'Annual Bonus'] = np.nan\n",
    "        \n",
    "    if c.find('hr') != -1 or c.find('hour') != -1:\n",
    "        tempint = re.sub('[^0-9]','', c)\n",
    "        tempint = tempint * 2080\n",
    "        if int(tempint) > 10000000:\n",
    "            df_append.loc[index, 'Annual Bonus'] = np.nan\n",
    "        else:\n",
    "            c = str(tempint)\n",
    "            df_append.loc[index, 'Annual Bonus'] = c\n",
    "        \n",
    "    if c.find('≈') != -1:\n",
    "        df_append.loc[index, 'Annual Bonus'] = c[c.find('≈'): int(len(c))]\n",
    "        \n",
    "    if not c.isdigit():\n",
    "        tempint = re.sub('[^0-9]','', c)\n",
    "        df_append.loc[index, 'Annual Bonus'] = str(tempint)\n",
    "        \n",
    "for index, row in df_append.iterrows():\n",
    "    c = row['Signing Bonus']\n",
    "    c = c.lower()\n",
    "    c = c.replace('k', '000')\n",
    "    df_append.loc[index, 'Signing Bonus'] = c\n",
    "    \n",
    "    if (len(c) > 0 and c[0] == '-'):\n",
    "        df_append.loc[index, 'Signing Bonus'] = np.nan\n",
    "        \n",
    "    if c.find('hr') != -1 or c.find('hour') != -1:\n",
    "        tempint = re.sub('[^0-9]','', c)\n",
    "        tempint = tempint * 2080\n",
    "        if int(tempint) > 10000000:\n",
    "            df_append.loc[index, 'Signing Bonus'] = np.nan\n",
    "        else:\n",
    "            c = str(tempint)\n",
    "            df_append.loc[index, 'Signing Bonus'] = c\n",
    "        \n",
    "    if c.find('≈') != -1:\n",
    "        df_append.loc[index, 'Signing Bonus'] = c[c.find('≈'): int(len(c))]\n",
    "        \n",
    "    if not c.isdigit():\n",
    "        tempint = re.sub('[^0-9]','', c)\n",
    "        df_append.loc[index, 'Signing Bonus'] = str(tempint)\n",
    "\n",
    "df_append = df_append.dropna(axis = 0, how = 'any')\n",
    "\n",
    "# Convert the type of Annual Base Pay, Annual Bonus and Sigin Bonus from Strings into Integers \n",
    "df_append['Annual Base Pay'] = pd.to_numeric(df_append['Annual Base Pay'], errors='coerce')\n",
    "df_append['Annual Bonus'] = pd.to_numeric(df_append['Annual Bonus'], errors='coerce')\n",
    "df_append['Signing Bonus'] = pd.to_numeric(df_append['Signing Bonus'], errors='coerce')\n"
   ]
  },
  {
   "cell_type": "markdown",
   "metadata": {},
   "source": [
    "To prevent skewed data, we removed outlier values that were extremely high or extremely low. Specifically, we removed Annual Base Pay values under 10,000 and over 1,000,000, Annual Bonus values over 750,000, and Signing Bonus values over 1,000,000."
   ]
  },
  {
   "cell_type": "code",
   "execution_count": 5,
   "metadata": {},
   "outputs": [],
   "source": [
    "# Removing extremely high / extremely low numbers\n",
    "df_append = df_append[df_append['Annual Base Pay'] < 1000000] \n",
    "df_append = df_append[df_append['Annual Base Pay'] > 10000] \n",
    "df_append = df_append[df_append['Annual Bonus'] < 750000] \n",
    "df_append = df_append[df_append['Signing Bonus'] < 1000000] "
   ]
  },
  {
   "cell_type": "markdown",
   "metadata": {},
   "source": [
    "# Data Analysis & Results"
   ]
  },
  {
   "cell_type": "markdown",
   "metadata": {},
   "source": [
    "Include cells that describe the steps in your data analysis."
   ]
  },
  {
   "cell_type": "code",
   "execution_count": 6,
   "metadata": {},
   "outputs": [],
   "source": [
    "## YOUR CODE HERE\n",
    "## FEEL FREE TO ADD MULTIPLE CELLS PER SECTION"
   ]
  },
  {
   "cell_type": "markdown",
   "metadata": {},
   "source": [
    "## Bar Plots \n",
    "Barplots show us the count of values within a single categorical variable."
   ]
  },
  {
   "cell_type": "markdown",
   "metadata": {},
   "source": [
    "### Gender\n",
    "This barplot is used to find the proportion of males to females within our dataset."
   ]
  },
  {
   "cell_type": "code",
   "execution_count": 7,
   "metadata": {},
   "outputs": [
    {
     "data": {
      "image/png": "[encoded data removed]",
      "text/plain": [
       "<Figure size 432x288 with 1 Axes>"
      ]
     },
     "metadata": {
      "needs_background": "light"
     },
     "output_type": "display_data"
    }
   ],
   "source": [
    "#get 'gender' column\n",
    "genderCol = df_append['Gender']\n",
    "numMale = 0\n",
    "numFemale = 0\n",
    "numOther = 0\n",
    "\n",
    "#count number of male, female, other\n",
    "for x in genderCol:\n",
    "    if x == 'Male':\n",
    "        numMale = numMale + 1\n",
    "    elif x == 'Female':\n",
    "        numFemale = numFemale + 1\n",
    "    else:\n",
    "        numOther = numOther + 1\n",
    "\n",
    "#plot results\n",
    "plotDf = pd.DataFrame({'Gender':['Male', 'Female', 'Other'], 'Count':[numMale, numFemale, numOther]})\n",
    "barPlot = plotDf.plot.bar(x='Gender', y='Count', rot=0)\n"
   ]
  },
  {
   "cell_type": "markdown",
   "metadata": {},
   "source": [
    "## Box Plots\n",
    "Box plots summaries a quantitative variable broken down by a categorical variable."
   ]
  },
  {
   "cell_type": "markdown",
   "metadata": {},
   "source": [
    "### Gender vs. Annualized Salary \n",
    "We want to analyze annualized salary(quantitative variable) across genders(categorical variable) to see which gender has a higher annualized salary. \n",
    "To do this, we clean the dataset and find the mean and median of female's and male's annualized salary."
   ]
  },
  {
   "cell_type": "code",
   "execution_count": 8,
   "metadata": {},
   "outputs": [
    {
     "name": "stdout",
     "output_type": "stream",
     "text": [
      "Mean of female's annualized salary:  97764.17475728155\n",
      "Mean of male's annualized salary:  97314.75426439232\n",
      "Median of female's annualized salary:  91000.0\n",
      "Median of male's annualized salary:  95000.0\n"
     ]
    }
   ],
   "source": [
    "# Build a new data frame whose gender only contains female and male\n",
    "df_box_plots_female = df_append.copy()\n",
    "df_box_plots_male = df_append.copy()\n",
    "df_box_plots_female = df_box_plots_female[df_box_plots_female['Gender'] == 'Female']\n",
    "df_box_plots_male = df_box_plots_male[df_box_plots_male['Gender'] == 'Male']\n",
    "df_box_plots = df_box_plots_female.append(df_box_plots_male, sort = True)\n",
    "\n",
    "# Drop the person whose salary is greater than 300000\n",
    "df_box_plots_female = df_box_plots_female[df_box_plots_female['Annual Base Pay'] < 300000] \n",
    "df_box_plots_male = df_box_plots_male[df_box_plots_male['Annual Base Pay'] < 300000] \n",
    "df_box_plots = df_box_plots[df_box_plots['Annual Base Pay'] < 300000] \n",
    "\n",
    "# Show mean and median of female's and male's annualized salary\n",
    "print(\"Mean of female's annualized salary: \", df_box_plots_female['Annual Base Pay'].mean())\n",
    "print(\"Mean of male's annualized salary: \",df_box_plots_male['Annual Base Pay'].mean())\n",
    "print(\"Median of female's annualized salary: \",df_box_plots_female['Annual Base Pay'].median())\n",
    "print(\"Median of male's annualized salary: \",df_box_plots_male['Annual Base Pay'].median())"
   ]
  },
  {
   "cell_type": "code",
   "execution_count": 9,
   "metadata": {
    "scrolled": true
   },
   "outputs": [
    {
     "data": {
      "image/png": "[encoded data removed]",
      "text/plain": [
       "<Figure size 432x288 with 1 Axes>"
      ]
     },
     "metadata": {
      "needs_background": "light"
     },
     "output_type": "display_data"
    }
   ],
   "source": [
    "# Generate a boxplot: Gender VS Annualized Salary\n",
    "sns.boxplot(x = 'Gender', y = 'Annual Base Pay', data = df_box_plots)\n",
    "ax = plt.gca()\n",
    "ax.set_title('Gender VS Annualized Salary')\n",
    "ax.set_ylabel('Annual Base Pay')\n",
    "ax.set_xlabel('Gender');"
   ]
  },
  {
   "cell_type": "markdown",
   "metadata": {},
   "source": [
    "### Gender vs. Annual Bonus\n",
    "We want to analyze annualized salary(quantitative variable) across genders(categorical variable) to see which gender has a higher annual bonus. \n",
    "To do this, we clean the dataset and find the mean and median of female's and male's annual bonus."
   ]
  },
  {
   "cell_type": "code",
   "execution_count": 10,
   "metadata": {},
   "outputs": [
    {
     "name": "stdout",
     "output_type": "stream",
     "text": [
      "Mean of female's annual bonus:  10665.459016393443\n",
      "Mean of male's annual bonus:  10135.993384785006\n",
      "Median of female's annual bonus:  7900.0\n",
      "Median of male's annual bonus:  8000.0\n"
     ]
    }
   ],
   "source": [
    "# Build a new data frame whose gender only contains female and male\n",
    "df_box_plots_bonus_female = df_append.copy()\n",
    "df_box_plots_bonus_male = df_append.copy()\n",
    "df_box_plots_bonus_female = df_box_plots_bonus_female[df_box_plots_bonus_female['Gender'] == 'Female']\n",
    "df_box_plots_bonus_male = df_box_plots_bonus_male[df_box_plots_bonus_male['Gender'] == 'Male']\n",
    "df_box_plots_bonus = df_box_plots_bonus_female.append(df_box_plots_bonus_male, sort = True)\n",
    "\n",
    "# Drop the person whose annual bonus is 0 or greater than 50000 \n",
    "df_box_plots_bonus_female = df_box_plots_bonus_female[df_box_plots_bonus_female['Annual Bonus'] != 0] \n",
    "df_box_plots_bonus_male = df_box_plots_bonus_male[df_box_plots_bonus_male['Annual Bonus'] != 0] \n",
    "df_box_plots_bonus = df_box_plots_bonus[df_box_plots_bonus['Annual Bonus'] != 0] \n",
    "df_box_plots_bonus_female = df_box_plots_bonus_female[df_box_plots_bonus_female['Annual Bonus'] < 50000] \n",
    "df_box_plots_bonus_male = df_box_plots_bonus_male[df_box_plots_bonus_male['Annual Bonus'] < 50000] \n",
    "df_box_plots_bonus = df_box_plots_bonus[df_box_plots_bonus['Annual Bonus'] < 50000] \n",
    "\n",
    "# Show mean and median of female's and male's annual bonus\n",
    "print(\"Mean of female's annual bonus: \", df_box_plots_bonus_female['Annual Bonus'].mean())\n",
    "print(\"Mean of male's annual bonus: \",df_box_plots_bonus_male['Annual Bonus'].mean())\n",
    "print(\"Median of female's annual bonus: \",df_box_plots_bonus_female['Annual Bonus'].median())\n",
    "print(\"Median of male's annual bonus: \",df_box_plots_bonus_male['Annual Bonus'].median())"
   ]
  },
  {
   "cell_type": "code",
   "execution_count": 11,
   "metadata": {},
   "outputs": [
    {
     "data": {
      "image/png": "[encoded data removed]",
      "text/plain": [
       "<Figure size 432x288 with 1 Axes>"
      ]
     },
     "metadata": {
      "needs_background": "light"
     },
     "output_type": "display_data"
    }
   ],
   "source": [
    "# Generate a boxplot: Gender VS Annual Bonus\n",
    "sns.boxplot(x = 'Gender', y = 'Annual Bonus', data = df_box_plots_bonus)\n",
    "ax = plt.gca()\n",
    "ax.set_title('Gender VS Annual Bonus')\n",
    "ax.set_ylabel('Annual Bonus')\n",
    "ax.set_xlabel('Gender');"
   ]
  },
  {
   "cell_type": "markdown",
   "metadata": {},
   "source": [
    "### Gender vs. Signing Bonus\n",
    "We want to analyze annualized salary(quantitative variable) across genders(categorical variable) to see which gender has a higher signing bonus. \n",
    "To do this, we clean the dataset and find the mean and median of female's and male's signing bonus."
   ]
  },
  {
   "cell_type": "code",
   "execution_count": 12,
   "metadata": {},
   "outputs": [
    {
     "name": "stdout",
     "output_type": "stream",
     "text": [
      "Mean of female's signing bonus:  11199.162162162162\n",
      "Mean of male's signing bonus:  11330.866228070176\n",
      "Median of female's signing bonus:  10000.0\n",
      "Median of male's signing bonus:  10000.0\n"
     ]
    }
   ],
   "source": [
    "# Build a new data frame whose gender only contains female and male\n",
    "df_box_plots_signing_female = df_append.copy()\n",
    "df_box_plots_signing_male = df_append.copy()\n",
    "df_box_plots_signing_female = df_box_plots_signing_female[df_box_plots_signing_female['Gender'] == 'Female']\n",
    "df_box_plots_signing_male = df_box_plots_signing_male[df_box_plots_signing_male['Gender'] == 'Male']\n",
    "df_box_plots_signing = df_box_plots_signing_female.append(df_box_plots_signing_male, sort = True)\n",
    "\n",
    "# Drop the person whose signing bonus is 0 or greater than 50000\n",
    "df_box_plots_signing_female = df_box_plots_signing_female[df_box_plots_signing_female['Signing Bonus'] != 0] \n",
    "df_box_plots_signing_male = df_box_plots_signing_male[df_box_plots_signing_male['Signing Bonus'] != 0] \n",
    "df_box_plots_signing = df_box_plots_signing[df_box_plots_signing['Signing Bonus'] != 0] \n",
    "df_box_plots_signing_female = df_box_plots_signing_female[df_box_plots_signing_female['Signing Bonus'] < 50000] \n",
    "df_box_plots_signing_male = df_box_plots_signing_male[df_box_plots_signing_male['Signing Bonus'] < 50000] \n",
    "df_box_plots_signing = df_box_plots_signing[df_box_plots_signing['Signing Bonus'] < 50000] \n",
    "\n",
    "# Show mean and median of female's and male's signing bonus\n",
    "print(\"Mean of female's signing bonus: \", df_box_plots_signing_female['Signing Bonus'].mean())\n",
    "print(\"Mean of male's signing bonus: \",df_box_plots_signing_male['Signing Bonus'].mean())\n",
    "print(\"Median of female's signing bonus: \",df_box_plots_signing_female['Signing Bonus'].median())\n",
    "print(\"Median of male's signing bonus: \",df_box_plots_signing_male['Signing Bonus'].median())"
   ]
  },
  {
   "cell_type": "code",
   "execution_count": 13,
   "metadata": {},
   "outputs": [
    {
     "data": {
      "image/png": "[encoded data removed]",
      "text/plain": [
       "<Figure size 432x288 with 1 Axes>"
      ]
     },
     "metadata": {
      "needs_background": "light"
     },
     "output_type": "display_data"
    }
   ],
   "source": [
    "# Generate a boxplot: Gender VS Signing Bonus\n",
    "sns.boxplot(x = 'Gender', y = 'Signing Bonus', data = df_box_plots_signing)\n",
    "ax = plt.gca()\n",
    "ax.set_title('Gender VS Signing Bonus')\n",
    "ax.set_ylabel('Signing Bonus')\n",
    "ax.set_xlabel('Gender');"
   ]
  },
  {
   "cell_type": "markdown",
   "metadata": {},
   "source": [
    "# Scatter Plot"
   ]
  },
  {
   "cell_type": "code",
   "execution_count": 22,
   "metadata": {},
   "outputs": [
    {
     "data": {
      "image/png": "[encoded data removed]",
      "text/plain": [
       "<Figure size 432x288 with 1 Axes>"
      ]
     },
     "metadata": {
      "needs_background": "light"
     },
     "output_type": "display_data"
    },
    {
     "name": "stdout",
     "output_type": "stream",
     "text": [
      "Correlation Coefficient:  0.2804735029570316\n"
     ]
    }
   ],
   "source": [
    "#Male Annual Base Pay vs Annual Bonus\n",
    "male_only = df_append[df_append['Gender'] == 'Male'] \n",
    "sns.regplot(male_only['Annual Base Pay'], male_only['Annual Bonus'])\n",
    "plt.show()\n",
    "\n",
    "#Calculating correlation value\n",
    "corrCoeff1 = np.corrcoef(male_only['Annual Base Pay'], male_only['Annual Bonus'])\n",
    "print(\"Correlation Coefficient: \", corrCoeff1[0][1])"
   ]
  },
  {
   "cell_type": "code",
   "execution_count": 23,
   "metadata": {},
   "outputs": [
    {
     "data": {
      "image/png": "[encoded data removed]",
      "text/plain": [
       "<Figure size 432x288 with 1 Axes>"
      ]
     },
     "metadata": {
      "needs_background": "light"
     },
     "output_type": "display_data"
    },
    {
     "name": "stdout",
     "output_type": "stream",
     "text": [
      "Correlation Coefficient:  0.15253852239386925\n"
     ]
    }
   ],
   "source": [
    "#Male Annual Base Pay vs Signing Bonus\n",
    "sns.regplot(male_only['Annual Base Pay'], male_only['Signing Bonus'])\n",
    "plt.show()\n",
    "\n",
    "#Calculating correlation value\n",
    "corrCoeff2 = np.corrcoef(male_only['Annual Base Pay'], male_only['Signing Bonus'])\n",
    "print(\"Correlation Coefficient: \", corrCoeff2[0][1])"
   ]
  },
  {
   "cell_type": "code",
   "execution_count": 24,
   "metadata": {},
   "outputs": [
    {
     "data": {
      "image/png": "[encoded data removed]",
      "text/plain": [
       "<Figure size 432x288 with 1 Axes>"
      ]
     },
     "metadata": {
      "needs_background": "light"
     },
     "output_type": "display_data"
    },
    {
     "name": "stdout",
     "output_type": "stream",
     "text": [
      "Correlation Coefficient:  0.4510814118828829\n"
     ]
    }
   ],
   "source": [
    "#Female Annual Base Pay vs Annual Bonus\n",
    "female_only = df_append[df_append['Gender'] == 'Female'] \n",
    "sns.regplot(female_only['Annual Base Pay'], female_only['Annual Bonus'])\n",
    "plt.show()\n",
    "\n",
    "#Calculating correlation value\n",
    "corrCoeff3 = np.corrcoef(female_only['Annual Base Pay'], female_only['Annual Bonus'])\n",
    "print(\"Correlation Coefficient: \", corrCoeff3[0][1])"
   ]
  },
  {
   "cell_type": "code",
   "execution_count": 25,
   "metadata": {},
   "outputs": [
    {
     "data": {
      "image/png": "[encoded data removed]",
      "text/plain": [
       "<Figure size 432x288 with 1 Axes>"
      ]
     },
     "metadata": {
      "needs_background": "light"
     },
     "output_type": "display_data"
    },
    {
     "name": "stdout",
     "output_type": "stream",
     "text": [
      "Correlation Coefficient:  0.2610293660258317\n"
     ]
    }
   ],
   "source": [
    "#Female Annual Base Pay vs Signing Bonus\n",
    "sns.regplot(female_only['Annual Base Pay'], female_only['Signing Bonus'])\n",
    "plt.show()\n",
    "\n",
    "#Calculating correlation value\n",
    "corrCoeff4 = np.corrcoef(female_only['Annual Base Pay'], female_only['Signing Bonus'])\n",
    "print(\"Correlation Coefficient: \", corrCoeff4[0][1])"
   ]
  },
  {
   "cell_type": "markdown",
   "metadata": {},
   "source": [
    "## Density Plot \n",
    "Density plots reveal information about a single quantitative variable."
   ]
  },
  {
   "cell_type": "code",
   "execution_count": null,
   "metadata": {},
   "outputs": [],
   "source": [
    "# Build a data frame for density plot of female's annual base salary\n",
    "df_density_plots_female = df_append.copy()\n",
    "df_density_plots_female = df_density_plots_female[df_density_plots_female['Gender'] == 'Female']\n",
    "df_density_plots_female = df_density_plots_female.drop(columns = ['Annual Bonus', 'Location', 'Position Type', 'Signing Bonus'])\n",
    "df_density_plots_female = df_density_plots_female[df_density_plots_female['Annual Base Pay'] < 300000] \n",
    "\n",
    "# Generate a density plot \n",
    "ax = sns.distplot(df_density_plots_female['Annual Base Pay'], bins= 20)\n",
    "sns.despine()\n",
    "ax.set_title('Female Annual Base Salary')\n",
    "ax.set_ylabel('Count')\n",
    "ax.set_xlabel('Annual Base Salary');"
   ]
  },
  {
   "cell_type": "code",
   "execution_count": null,
   "metadata": {},
   "outputs": [],
   "source": [
    "# Build a data frame for density plot of male's annual base salary\n",
    "df_density_plots_male = df_append.copy()\n",
    "df_density_plots_male = df_density_plots_male[df_density_plots_male['Gender'] == 'Male']\n",
    "df_density_plots_male = df_density_plots_male.drop(columns = ['Annual Bonus', 'Location', 'Position Type', 'Signing Bonus'])\n",
    "df_density_plots_male = df_density_plots_male[df_density_plots_male['Annual Base Pay'] < 300000] \n",
    "\n",
    "# Generate a density plot \n",
    "ax = sns.distplot(df_density_plots_male['Annual Base Pay'], bins= 20)\n",
    "sns.despine()\n",
    "ax.set_title('Male Annual Base Salary')\n",
    "ax.set_ylabel('Count')\n",
    "ax.set_xlabel('Annual Base Salary');"
   ]
  },
  {
   "cell_type": "markdown",
   "metadata": {},
   "source": [
    "### Annualized Salary\n",
    "We are creating a density plot to investigate the distribution of salaries across all the people in our dataset. We seek to find ... from this plot."
   ]
  },
  {
   "cell_type": "code",
   "execution_count": null,
   "metadata": {},
   "outputs": [],
   "source": []
  },
  {
   "cell_type": "markdown",
   "metadata": {},
   "source": [
    "## Segmented Bar Graph\n",
    "A segmented bar graph compares multiple quantitative variables across a single categorical variable. "
   ]
  },
  {
   "cell_type": "markdown",
   "metadata": {},
   "source": [
    "### Gender vs. \"Income\"\n",
    "\"Income\" consists of 3 quantitative variables: Annualized Salary, Signing Bonus, Other Bonuses. The reason we want to look at these 3 quantitative variables is to get a more holistic representation of the amount of money an individual is bringing home, because salary may not be the most accurate representation because a person make only make a $40,000 but have another $40,000 in bonuses/ other compensation."
   ]
  },
  {
   "cell_type": "code",
   "execution_count": null,
   "metadata": {},
   "outputs": [],
   "source": []
  },
  {
   "cell_type": "markdown",
   "metadata": {},
   "source": [
    "# Ethics & Privacy"
   ]
  },
  {
   "cell_type": "markdown",
   "metadata": {},
   "source": [
    "*Fill in your ethics & privacy discussion here*"
   ]
  },
  {
   "cell_type": "markdown",
   "metadata": {},
   "source": [
    "# Conclusion & Discussion"
   ]
  },
  {
   "cell_type": "markdown",
   "metadata": {},
   "source": [
    "*Fill in your discussion information here*"
   ]
  }
 ],
 "metadata": {
  "kernelspec": {
   "display_name": "Python 3",
   "language": "python",
   "name": "python3"
  },
  "language_info": {
   "codemirror_mode": {
    "name": "ipython",
    "version": 3
   },
   "file_extension": ".py",
   "mimetype": "text/x-python",
   "name": "python",
   "nbconvert_exporter": "python",
   "pygments_lexer": "ipython3",
   "version": "3.7.3"
  }
 },
 "nbformat": 4,
 "nbformat_minor": 2
}
