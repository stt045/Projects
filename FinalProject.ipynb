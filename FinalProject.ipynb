{
 "cells": [
  {
   "cell_type": "markdown",
   "metadata": {},
   "source": [
    "# COGS 108 - Final Project "
   ]
  },
  {
   "cell_type": "markdown",
   "metadata": {},
   "source": [
    "# Overview"
   ]
  },
  {
   "cell_type": "markdown",
   "metadata": {},
   "source": [
    "*Fill in your overview here*"
   ]
  },
  {
   "cell_type": "markdown",
   "metadata": {},
   "source": [
    "# Names\n",
    "\n",
    "- Steven Tran\n",
    "- Chong Gu\n",
    "- Sarah Youn\n",
    "- Zefeng Xue\n",
    "- Kuanghanying Zhao\n"
   ]
  },
  {
   "cell_type": "markdown",
   "metadata": {},
   "source": [
    "#### Group Members IDs\n",
    "\n",
    "- A13950948\n",
    "- A14464757\n",
    "- A########\n",
    "- A########\n",
    "- A14698283"
   ]
  },
  {
   "cell_type": "markdown",
   "metadata": {},
   "source": [
    "# Research Question"
   ]
  },
  {
   "cell_type": "markdown",
   "metadata": {},
   "source": [
    "How large is the gender wage gap between men and women within the tech industry? And which gender, on average, earns more whilst having similar educational backgrounds?"
   ]
  },
  {
   "cell_type": "markdown",
   "metadata": {},
   "source": [
    "## Background and Prior Work"
   ]
  },
  {
   "cell_type": "markdown",
   "metadata": {},
   "source": [
    "The gender wage gap has long been an issue in the United States. Recent research suggests that the wage gap has narrowed between men and women since the 1980s, but has changed little within the last 10 years.. While the number of women in the tech industry is rising, females are still largely considered to be part of the minority, and continue to make up less than 20% of the total number of employees at tech companies. Given this information, we are curious as to whether or not a wage gap exists in the tech industry, and if so, how large that wage gap is. \n",
    "\n",
    "This topic is of interest to our group because we all have an interest in technology, and many of us plan to work or be involved in the tech industry in some way in the future. Furthermore, technology continues to become more and more important in our daily lives and affects society and the way we live. As such, we believe that more women should be encouraged to pursue tech careers to promote innovation and, in doing so, be paid equally to men.\n",
    "\n",
    "References (include links):\n",
    "- 1) Facts about the gender pay gap: https://www.pewresearch.org/fact-tank/2019/03/22/gender-pay-gap-facts/\n",
    "- 2) Women in tech statistics: https://smallbiztrends.com/2018/03/women-in-technology-statistics.html\n"
   ]
  },
  {
   "cell_type": "markdown",
   "metadata": {},
   "source": [
    "# Hypothesis\n"
   ]
  },
  {
   "cell_type": "markdown",
   "metadata": {},
   "source": [
    "In recent years, it seems that the presence of women within the tech industry, specifically in software engineering, has grown significantly. For years, we have heard that women are paid less than men for working the same jobs. We are hypothesizing that this is true for the tech industry, but that the gap is not extremely significant."
   ]
  },
  {
   "cell_type": "markdown",
   "metadata": {},
   "source": [
    "# Dataset(s)"
   ]
  },
  {
   "cell_type": "markdown",
   "metadata": {},
   "source": [
    "*Fill in your dataset information here*\n",
    "https://gist.github.com/nk412/38e131f55422a3b7422c6f50940a7489 \n",
    "The data for our first dataset is from people in the tech industry (mainly software engineering type jobs) with 3700 entries and 12 variables. This data seems to be from a self reported Google Form. There seems to be significantly more males on this form than females, which might skew our findings.\n",
    "\n",
    "https://github.com/HackathonHackers/data/blob/master/notebooks/fall-2015-salary.csv\n",
    "This data has 161 entries and 27 different variables. The dataset is smaller than our first one but does seem a lot more well rounded in terms of distribution of genders and educational levels.\n",
    "\n",
    "https://www.kaggle.com/kaggle/sf-salaries\n",
    "This dataset shows salary information for multiple job titles in the San Francisco area. We plan to only look at the entries with job positions with a Software Engineer title or similar.\n",
    "\n",
    "We plan to aggregate all of our data and merge it into one singular csv file. This will be easy to do since the current data we have share multiple similar variables. Because our data includes more data on males in the tech industry than females, we plan to look for more data sets to more accurately represent the female population.\n",
    "\n",
    "\n",
    "(Copy this information for each dataset)\n",
    "- Dataset Name:\n",
    "- Link to the dataset:\n",
    "- Number of observations:\n",
    "\n",
    "1-2 sentences describing each dataset. \n",
    "\n",
    "If you plan to use multiple datasets, add 1-2 sentences about how you plan to combine these datasets."
   ]
  },
  {
   "cell_type": "markdown",
   "metadata": {},
   "source": [
    "# Setup"
   ]
  },
  {
   "cell_type": "code",
   "execution_count": 1,
   "metadata": {},
   "outputs": [],
   "source": [
    "import numpy as np\n",
    "import pandas as pd\n",
    "import matplotlib.pyplot as plt\n",
    "import seaborn as sns\n",
    "import re"
   ]
  },
  {
   "cell_type": "markdown",
   "metadata": {},
   "source": [
    "# Data Cleaning"
   ]
  },
  {
   "cell_type": "markdown",
   "metadata": {},
   "source": [
    "Describe your data cleaning steps here.\n",
    "\n",
    "Our goals for cleaning the data \n",
    "- [ ] The smaller dataset does not have an annualized salary column. It does, however, have a salary and payment frequency. We want to take that salary value and multiply it by the frequency to get an annualized salary.\n",
    "- [ ] We want to combine our two datasets by matching all of the similar columns.\n",
    "- [ ] "
   ]
  },
  {
   "cell_type": "code",
   "execution_count": 2,
   "metadata": {
    "scrolled": true
   },
   "outputs": [],
   "source": [
    "#import datasets\n",
    "df_sal1 = pd.read_csv('salaries.csv')\n",
    "df_sal2 = pd.read_csv('fall-2015-salary.csv')\n",
    "\n",
    "#dropping unused columns\n",
    "df_sal1 = df_sal1.drop(['Timestamp', 'Employer', 'Years at Employer', 'Years of Experience', 'Annual Stock Value/Bonus', 'Additional Comments'], axis=1)\n",
    "df_sal2 = df_sal2.drop(['Degree Level', 'Last Year of College', 'Timestamp', 'Company Name', 'Position Title', 'Base Salary', 'Salary Frequency', 'Housing Stipend', 'Stock Bonuses/Benefits', 'Stock Vesting Schedule Details', 'Additional Benefits', 'Did You Negotiate the Offer?', 'Did You Accept the Offer?', 'Time Frame From First Interview Invitation to Offer in Weeks', 'Last School Attended', 'Major', 'Additional Information', 'Monthly Salary', 'Annualized Recurring Renumeration (inc. stock)', 'Recurring Renumeration per Month', 'Total First Year Annualized Renumeration(including Signon & Relocation)'], axis=1)\n",
    "\n",
    "df_sal1 = df_sal1.dropna(axis = 0, how = 'any')\n",
    "df_sal2 = df_sal2.dropna(axis = 0, how = 'any')\n",
    "\n",
    "df_sal2 = df_sal2.rename(index=str, columns={'Sex': 'Gender', 'Bonuses per Year': 'Annual Bonus', 'Annualized Salary': 'Annual Base Pay'})\n",
    "df_sal1 = df_sal1.rename(index=str, columns={'Job Title': 'Position Type'})\n",
    "\n",
    "df_append = df_sal1.append(df_sal2, sort = True)\n",
    "\n"
   ]
  },
  {
   "cell_type": "code",
   "execution_count": 3,
   "metadata": {},
   "outputs": [],
   "source": [
    "for index, row in df_append.iterrows():\n",
    "    c = row['Annual Base Pay']\n",
    "    c = c.lower()\n",
    "    c = c.replace('k', '000')\n",
    "    df_append.loc[index, 'Annual Base Pay'] = c\n",
    "    \n",
    "    if (len(c) > 0 and c[0] == '-'):\n",
    "        df_append.loc[index, 'Annual Base Pay'] = np.nan\n",
    "        \n",
    "    if c.find('hr') != -1 or c.find('hour') != -1:\n",
    "        tempint = re.sub('[^0-9]','', c)\n",
    "        tempint = tempint * 2080\n",
    "        if int(tempint) > 10000000:\n",
    "            df_append.loc[index, 'Annual Base Pay'] = np.nan\n",
    "        else:\n",
    "            c = str(tempint)\n",
    "            df_append.loc[index, 'Annual Base Pay'] = c\n",
    "        \n",
    "    if c.find('≈') != -1:\n",
    "        df_append.loc[index, 'Annual Base Pay'] = c[c.find('≈'): int(len(c))]\n",
    "        \n",
    "    if not c.isdigit():\n",
    "        tempint = re.sub('[^0-9]','', c)\n",
    "        df_append.loc[index, 'Annual Base Pay'] = str(tempint)\n",
    "\n",
    "for index, row in df_append.iterrows():\n",
    "    n = row['Annual Bonus']\n",
    "    if not n.isdigit():\n",
    "        tempint = re.sub('[^0-9]','', n)\n",
    "        df_append.loc[index, 'Annual Bonus'] = str(tempint)\n",
    "\n",
    "df_append = df_append.dropna(axis = 0, how = 'any')"
   ]
  },
  {
   "cell_type": "code",
   "execution_count": 18,
   "metadata": {},
   "outputs": [],
   "source": [
    "df_append['Annual Base Pay'] = pd.to_numeric(df_append['Annual Base Pay'], errors='coerce')\n",
    "df_append['Annual Bonus'] = pd.to_numeric(df_append['Annual Bonus'], errors='coerce')\n",
    "df_append = df_append[df_append['Annual Base Pay'] < 1000000] \n",
    "df_append = df_append[df_append['Annual Base Pay'] > 10000] "
   ]
  },
  {
   "cell_type": "code",
   "execution_count": 19,
   "metadata": {},
   "outputs": [
    {
     "name": "stdout",
     "output_type": "stream",
     "text": [
      "     Annual Base Pay  Annual Bonus                  Gender  \\\n",
      "1           125000.0           0.0                    Male   \n",
      "2            83000.0        5000.0                    Male   \n",
      "4            86000.0       13250.0                    Male   \n",
      "6           105000.0       25000.0                    Male   \n",
      "9            90500.0           0.0                    Male   \n",
      "12          110000.0           0.0                    Male   \n",
      "14           40000.0         500.0                    Male   \n",
      "16           45000.0        1500.0                    Male   \n",
      "17          135000.0           0.0                    Male   \n",
      "21          105000.0        9600.0                    Male   \n",
      "22           95000.0           0.0                    Male   \n",
      "23           80000.0       25000.0                    Male   \n",
      "24          120000.0           0.0                    Male   \n",
      "25           78000.0       15000.0                    Male   \n",
      "28          115000.0           0.0                    Male   \n",
      "29          110000.0       10000.0                    Male   \n",
      "32          150000.0       37500.0                    Male   \n",
      "34           63000.0           0.0                    Male   \n",
      "35           63000.0        2000.0                    Male   \n",
      "36           38210.0           0.0                    Male   \n",
      "37           93000.0       15000.0                    Male   \n",
      "41          108000.0        1000.0                    Male   \n",
      "43           54000.0           0.0                    Male   \n",
      "45           85000.0           0.0                    Male   \n",
      "48           55000.0           0.0                    Male   \n",
      "49           80000.0           0.0                    Male   \n",
      "50          125000.0       46750.0                    Male   \n",
      "53          145000.0       20000.0                    Male   \n",
      "54          134000.0       46750.0                    Male   \n",
      "55           78000.0        4000.0                    Male   \n",
      "..               ...           ...                     ...   \n",
      "78          123000.0       40000.0                    Male   \n",
      "81           85200.0       16000.0                    Male   \n",
      "82          100000.0           0.0                  Female   \n",
      "83           85200.0       16000.0                    Male   \n",
      "85          106000.0       20000.0                    Male   \n",
      "86           90000.0       17143.0                    Male   \n",
      "87          108500.0       32500.0                    Male   \n",
      "88           85200.0       15600.0                  Female   \n",
      "89          110000.0       15000.0                  Female   \n",
      "90          106000.0       34286.0                    Male   \n",
      "91          190000.0       15996.0                  Female   \n",
      "93          106000.0       15000.0                  Female   \n",
      "96           83200.0       27200.0                  Female   \n",
      "97           83200.0       27380.0                    Male   \n",
      "99           90000.0           0.0                  Female   \n",
      "101          47840.0       12000.0               Nonbinary   \n",
      "104         325000.0       18750.0                    Male   \n",
      "107         145000.0           0.0                    Male   \n",
      "108         115000.0       37500.0                  Female   \n",
      "111          62500.0           0.0                    Male   \n",
      "114          56160.0           0.0                    Male   \n",
      "116          53000.0       18000.0                  Female   \n",
      "117          90000.0       12500.0                  Female   \n",
      "132         100000.0       27500.0                    Male   \n",
      "134          47840.0           0.0                    Male   \n",
      "135         115000.0       37500.0  Prefer Not to Disclose   \n",
      "136          80000.0         200.0                    Male   \n",
      "137         110000.0       15000.0                    Male   \n",
      "150         140000.0           0.0                    Male   \n",
      "151          55000.0       19250.0  Prefer Not to Disclose   \n",
      "\n",
      "                Location                     Position Type Signing Bonus  \n",
      "1      San Francisco, CA                  Systems Engineer          5000  \n",
      "2           San Diego CA                  Systems engineer             0  \n",
      "4          Cleveland, OH                 Software Engineer          5000  \n",
      "6                Waltham                               MTS          5000  \n",
      "9    Copenhagen, Denmark                Software Developer             0  \n",
      "12             Cupertino                 Software Engineer          5000  \n",
      "14        Eastern Oregon                     IT Technician             0  \n",
      "16           Madison, WI                  Lead Interviewer             0  \n",
      "17         New York City          Senior software engineer             0  \n",
      "21                   NYC                 Software Engineer             0  \n",
      "22           Seattle, WA                 Software Engineer             0  \n",
      "23        San Francisco   Infrastructure/Platform Engineer             0  \n",
      "24            Denver, CO          Senior Software Engineer             0  \n",
      "25               Chicago    Software Developer, Consultant             0  \n",
      "28       Los Angeles, CA            Lead Software Engineer             0  \n",
      "29           Remote (US)           Infrastructure Engineer         10000  \n",
      "32        Scottsdale, AZ      Senior Application Architect             0  \n",
      "34           Minneapolis                           Analyst             0  \n",
      "35           Minneapolis                           Analyst             0  \n",
      "36              Bordeaux                IT Project Manager             0  \n",
      "37               Seattle                   Senior Engineer             0  \n",
      "41             St. Louis         Software Development Lead             0  \n",
      "43           Upstate, NY                         Developer             0  \n",
      "45       Toronto, Canada              Full Stack Developer             0  \n",
      "48              New York                    Senior Analyst             0  \n",
      "49           Orlando, FL              Sr Software Engineer             0  \n",
      "50         San Francisco                 Software Engineer             0  \n",
      "53           santa clara                       sr engineer             0  \n",
      "54         New York City                  Senior Developer             0  \n",
      "55               Chicago                 Software Engineer          5000  \n",
      "..                   ...                               ...           ...  \n",
      "78     San Francisco, CA                         Full Time         35000  \n",
      "81               Redmond                            Intern            $0  \n",
      "82           Seattle, WA                            Intern        $1,200  \n",
      "83   Seattle, Washington                            Intern        $1,500  \n",
      "85   Seattle, Washington                         Full Time       $15,000  \n",
      "86           Redmond, WA                         Full Time       $30,000  \n",
      "87           Redmond, WA                         Full Time       $25,000  \n",
      "88               Redmond                            Intern        $2,400  \n",
      "89           Seattle, WA                         Full Time         25000  \n",
      "90               Redmond                         Full Time         30000  \n",
      "91           Seattle, WA                            Intern          5000  \n",
      "93               Redmond                         Full Time         10000  \n",
      "96         New York City                            Intern        $1,250  \n",
      "97                   NYC                            Intern            $0  \n",
      "99                   NYC                         Full Time         10000  \n",
      "101           Austin, TX                            Intern             0  \n",
      "104               PA, CA                         Full Time         10000  \n",
      "107    San Francisco, CA                         Full Time       $10,000  \n",
      "108             Bay Area                         Full Time        $5,000  \n",
      "111         San Jose, CA                         Full Time             0  \n",
      "114        United States                            Intern            $0  \n",
      "116     Indianapolis, IN                            Intern          $500  \n",
      "117    San Francisco, CA                         Full Time         30000  \n",
      "132        San Francisco                         Full Time         15000  \n",
      "134               Dallas                            Intern        $2,100  \n",
      "135                   SF                         Full Time         15000  \n",
      "136         New York, NY                            Intern          5000  \n",
      "137    San Francisco, CA                         Full Time        $5,000  \n",
      "150                  NYC                            Intern          5000  \n",
      "151         Redwood City                         Full Time          5000  \n",
      "\n",
      "[2070 rows x 6 columns]\n"
     ]
    }
   ],
   "source": [
    "print (df_append)"
   ]
  },
  {
   "cell_type": "markdown",
   "metadata": {},
   "source": [
    "# Data Analysis & Results"
   ]
  },
  {
   "cell_type": "markdown",
   "metadata": {},
   "source": [
    "Include cells that describe the steps in your data analysis."
   ]
  },
  {
   "cell_type": "code",
   "execution_count": 5,
   "metadata": {},
   "outputs": [],
   "source": [
    "## YOUR CODE HERE\n",
    "## FEEL FREE TO ADD MULTIPLE CELLS PER SECTION"
   ]
  },
  {
   "cell_type": "markdown",
   "metadata": {},
   "source": [
    "## Bar Plots \n",
    "Barplots show us the count of values within a single categorical variable."
   ]
  },
  {
   "cell_type": "markdown",
   "metadata": {},
   "source": [
    "### Gender\n",
    "This barplot is used to find the proportion of males to females within our dataset."
   ]
  },
  {
   "cell_type": "code",
   "execution_count": null,
   "metadata": {},
   "outputs": [],
   "source": []
  },
  {
   "cell_type": "markdown",
   "metadata": {},
   "source": [
    "## Box Plots\n",
    "Box plots summaries a quantitative variable broken down by a categorical variable."
   ]
  },
  {
   "cell_type": "markdown",
   "metadata": {},
   "source": [
    "### Gender vs. Annualized Salary \n",
    "We want to analyze annualized salary(quantitative variable) across genders(categorical variable) to see which gender has a higher annualized salary."
   ]
  },
  {
   "cell_type": "code",
   "execution_count": 40,
   "metadata": {},
   "outputs": [
    {
     "name": "stdout",
     "output_type": "stream",
     "text": [
      "Mean of female's annualized salary:  112477.85046728973\n",
      "Mean of male's annualized salary:  103177.87839917907\n",
      "Median of female's annualized salary:  92000.0\n",
      "Median of male's annualized salary:  95000.0\n"
     ]
    }
   ],
   "source": [
    "df_box_plots_female = df_append.copy()\n",
    "df_box_plots_male = df_append.copy()\n",
    "df_box_plots_female = df_box_plots1[df_box_plots1['Gender'] == 'Female']\n",
    "df_box_plots_male = df_box_plots2[df_box_plots2['Gender'] == 'Male']\n",
    "df_box_plots = df_box_plots_female.append(df_box_plots_male, sort = True)\n",
    "print(\"Mean of female's annualized salary: \", df_box_plots_female['Annual Base Pay'].mean())\n",
    "print(\"Mean of male's annualized salary: \",df_box_plots_male['Annual Base Pay'].mean())\n",
    "print(\"Median of female's annualized salary: \",df_box_plots_female['Annual Base Pay'].median())\n",
    "print(\"Median of male's annualized salary: \",df_box_plots_male['Annual Base Pay'].median())\n",
    "df_box_plots = df_box_plots[df_box_plots['Annual Base Pay'] < 300000] "
   ]
  },
  {
   "cell_type": "code",
   "execution_count": 32,
   "metadata": {},
   "outputs": [
    {
     "data": {
      "image/png": "[encoded data removed]",
      "text/plain": [
       "<Figure size 432x288 with 1 Axes>"
      ]
     },
     "metadata": {},
     "output_type": "display_data"
    }
   ],
   "source": [
    "sns.boxplot(x = 'Gender', y = 'Annual Base Pay', data = df_box_plots)\n",
    "ax = plt.gca()\n",
    "ax.set_title('Gender VS Annualized Salary')\n",
    "ax.set_ylabel('Annual Base Pay')\n",
    "ax.set_xlabel('Gender');"
   ]
  },
  {
   "cell_type": "markdown",
   "metadata": {},
   "source": [
    "## Density Plot \n",
    "Density plots reveal information about a single quantitative variable."
   ]
  },
  {
   "cell_type": "markdown",
   "metadata": {},
   "source": [
    "### Annualized Salary\n",
    "We are creating a density plot to investigate the distribution of salaries across all the people in our dataset. We seek to find ... from this plot."
   ]
  },
  {
   "cell_type": "code",
   "execution_count": null,
   "metadata": {},
   "outputs": [],
   "source": []
  },
  {
   "cell_type": "markdown",
   "metadata": {},
   "source": [
    "## Segmented Bar Graph\n",
    "A segmented bar graph compares multiple quantitative variables across a single categorical variable. "
   ]
  },
  {
   "cell_type": "markdown",
   "metadata": {},
   "source": [
    "### Gender vs. \"Income\"\n",
    "\"Income\" consists of 3 quantitative variables: Annualized Salary, Signing Bonus, Other Bonuses. The reason we want to look at these 3 quantitative variables is to get a more holistic representation of the amount of money an individual is bringing home, because salary may not be the most accurate representation because a person make only make a $40,000 but have another $40,000 in bonuses/ other compensation."
   ]
  },
  {
   "cell_type": "code",
   "execution_count": null,
   "metadata": {},
   "outputs": [],
   "source": []
  },
  {
   "cell_type": "markdown",
   "metadata": {},
   "source": [
    "# Ethics & Privacy"
   ]
  },
  {
   "cell_type": "markdown",
   "metadata": {},
   "source": [
    "*Fill in your ethics & privacy discussion here*"
   ]
  },
  {
   "cell_type": "markdown",
   "metadata": {},
   "source": [
    "# Conclusion & Discussion"
   ]
  },
  {
   "cell_type": "markdown",
   "metadata": {},
   "source": [
    "*Fill in your discussion information here*"
   ]
  }
 ],
 "metadata": {
  "kernelspec": {
   "display_name": "Python 3",
   "language": "python",
   "name": "python3"
  },
  "language_info": {
   "codemirror_mode": {
    "name": "ipython",
    "version": 3
   },
   "file_extension": ".py",
   "mimetype": "text/x-python",
   "name": "python",
   "nbconvert_exporter": "python",
   "pygments_lexer": "ipython3",
   "version": "3.6.5"
  }
 },
 "nbformat": 4,
 "nbformat_minor": 2
}
